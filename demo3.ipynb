{
 "cells": [
  {
   "cell_type": "markdown",
   "id": "d8bba665",
   "metadata": {},
   "source": [
    "<img src=\"https://www.sturgischarterschool.com/wp-content/uploads/2019/06/sturgisheader_logo.png\" alt=\"sturgis\" width=\"250\" align=\"right\"/>\n",
    "\n",
    "## Computer Science 'Demo 3: classes-connect4' \n",
    "### Sturgis Charter Public School \n",
    "\n"
   ]
  },
  {
   "cell_type": "markdown",
   "id": "16bf0839",
   "metadata": {},
   "source": [
    "### Learning Objectives for notebook \n",
    "* Classes\n",
    "* Public Variables\n",
    "* Private Variables\n"
   ]
  },
  {
   "cell_type": "code",
   "execution_count": null,
   "id": "685e9d31",
   "metadata": {},
   "outputs": [],
   "source": [
    "import random"
   ]
  },
  {
   "cell_type": "code",
   "execution_count": null,
   "id": "fb3eb272",
   "metadata": {},
   "outputs": [],
   "source": [
    "class connect4:\n",
    "    def __init__(self):\n",
    "        self.grid = None\n",
    "        self.newgame()\n",
    "        \n",
    "    \n",
    "    def newgame(self):\n",
    "        self.grid = []\n",
    "        row = list(range(0,9))\n",
    "        for i in range(0,6):\n",
    "            self.grid.append(row.copy())\n",
    "        for i, row in enumerate(self.grid):\n",
    "            for j, col in enumerate(row):\n",
    "                self.grid[i][j] = 0\n",
    "                \n",
    "    def player1(self, move):\n",
    "        if move > 8 or move < 0:\n",
    "            print(\"Not a legal move\")\n",
    "        else:\n",
    "            for i, row in enumerate(self.grid[::-1]):\n",
    "                if row[move] == 0:\n",
    "                    self.grid[5-i][move] = 1\n",
    "                    if self.endgame(1, (5-i,move)) == True:\n",
    "                        print(\"That's the game!\")\n",
    "                        for line in self.grid:\n",
    "                            print(line)\n",
    "                        return True\n",
    "                    else:\n",
    "                        return\n",
    "        print(\"Not a legal move\")\n",
    "        return\n",
    "        \n",
    "        \n",
    "    def player2(self, move):\n",
    "        if move > 8 or move < 0:\n",
    "            print(\"Not a legal move\")\n",
    "        else:\n",
    "            for i, row in enumerate(self.grid[::-1]):\n",
    "                if row[move] == 0:\n",
    "                    self.grid[5-i][move] = 2\n",
    "                    if self.endgame(2, (5-i,move)) == True:\n",
    "                        print(\"That's the game!\")\n",
    "                        for line in self.grid:\n",
    "                            print(line)\n",
    "                        return True\n",
    "                    else:\n",
    "                        return\n",
    "        print(\"Not a legal move\")\n",
    "        return\n",
    "    \n",
    "    def endgame(self, player, placement: tuple):\n",
    "        if self.fourinrow(player, placement, [(-1,-1), (-1,0), (-1,1), (0,-1), (0,1), (1,-1), (1,0), (1,1)], 1) == True:\n",
    "            return True\n",
    "                    \n",
    "    def fourinrow(self, player, match, directions, sequence): #This is going to be recursive\n",
    "        decision = False\n",
    "        if sequence == 4:\n",
    "            return True\n",
    "        for direction in directions:\n",
    "            check = (match[0] + direction[0], match[1] + direction[1])\n",
    "            if check[0] < 0 or check[1] < 0:\n",
    "                continue\n",
    "            if check[0] > len(self.grid)-1:\n",
    "                continue\n",
    "            if check[1] > len(self.grid[0])-1:\n",
    "                continue\n",
    "            if self.grid[check[0]][check[1]] == player:\n",
    "                sequence += 1\n",
    "                #print(\"Found a match\", check, \"match total\", sequence)\n",
    "                decision = self.fourinrow(player, check, [direction], sequence)\n",
    "                if decision == True:\n",
    "                    return decision\n",
    "                else:\n",
    "                    sequence = 1\n",
    "        return decision"
   ]
  },
  {
   "cell_type": "code",
   "execution_count": null,
   "id": "a65c1688",
   "metadata": {},
   "outputs": [],
   "source": [
    "game1 = connect4()\n",
    "print(game1.grid)"
   ]
  },
  {
   "cell_type": "code",
   "execution_count": null,
   "id": "cd65e40a",
   "metadata": {},
   "outputs": [],
   "source": [
    "for line in game1.grid:\n",
    "    print(line)"
   ]
  },
  {
   "cell_type": "code",
   "execution_count": null,
   "id": "7c0cc8ca",
   "metadata": {},
   "outputs": [],
   "source": [
    "directions = [(-1,-1), (-1,0), (-1,1), (0,-1), (0,1), (1,-1), (1,0), (1,1)]\n",
    "moves = [0,1,2,3,4,5,6,7,8]\n",
    "counter = 53\n",
    "while counter > 0:\n",
    "    counter -= 1\n",
    "    random.shuffle(moves)\n",
    "    print(moves[0])\n",
    "    if counter % 2 == 0:\n",
    "        result = game1.player1(moves[0])\n",
    "    else:\n",
    "        result = game1.player2(moves[0])\n",
    "    if result == True:\n",
    "        break\n",
    "    \n"
   ]
  },
  {
   "cell_type": "code",
   "execution_count": null,
   "id": "3905e4be",
   "metadata": {},
   "outputs": [],
   "source": []
  }
 ],
 "metadata": {
  "kernelspec": {
   "display_name": "Python 3 (ipykernel)",
   "language": "python",
   "name": "python3"
  },
  "language_info": {
   "codemirror_mode": {
    "name": "ipython",
    "version": 3
   },
   "file_extension": ".py",
   "mimetype": "text/x-python",
   "name": "python",
   "nbconvert_exporter": "python",
   "pygments_lexer": "ipython3",
   "version": "3.9.7"
  }
 },
 "nbformat": 4,
 "nbformat_minor": 5
}
